{
  "nbformat": 4,
  "nbformat_minor": 0,
  "metadata": {
    "colab": {
      "name": "Data-manipulation-using-pandas.ipynb",
      "provenance": [],
      "collapsed_sections": []
    },
    "kernelspec": {
      "name": "python3",
      "display_name": "Python 3"
    },
    "language_info": {
      "name": "python"
    }
  },
  "cells": [
    {
      "cell_type": "markdown",
      "metadata": {
        "id": "tpFG2KeXicA8"
      },
      "source": [
        "# Available methods in Pandas Python Packages"
      ]
    },
    {
      "cell_type": "markdown",
      "metadata": {
        "id": "bTP4sFmEiirC"
      },
      "source": [
        "- df.rename(columns={\"A\": \"a\", \"B\": \"c\"})\n",
        "- df.info()\n",
        "- df.head()\n",
        "- df.shape\n",
        "- df.describe()\n",
        "- df.count()\n",
        "- df.values\n",
        "- df.columns\n",
        "-df.index: for rows\n",
        "- df.sort_values(\"column_name\",ascending=False)\n",
        "-df.sort_values([\"column1\",\"column2\"],ascending=[True,False])\n",
        "- df[[\"col1\",\"col2\"]]\n",
        "- df[df[\"col_name\"]>50]\n",
        "- df[df[\"col\"]==\"some\"]\n",
        "- df[df[\"date_of_birth\"]>\"2015-01-01\"]\n",
        "- dogs[(dogs[\"height_cm\"] > 60) & (dogs[\"color\"] == \"tan\")]\n",
        "- is_lab==df[\"col1]==\"some\"\n",
        "- is_brown=df[\"col2\"]==\"some\"\n",
        "- df[is_lab & is_brown]\n",
        "- is_black_or_brown=df[\"color\"].isin([\"Black\",\"Brown\"])\n",
        "-df[is_black_or_brown]\n",
        "- colors = [\"brown\", \"black\", \"tan\"]\n",
        "condition = dogs[\"color\"].isin(colors)\n",
        "dogs[condition]\n",
        "- **new column:** df[\"height_m\"]=df[\"height_cm\"]/100\n",
        "- **bmi** : df[\"bmi\"]=df[\"weight_kg\"]/df[\"height_m\"]**2\n",
        "- \n"
      ]
    },
    {
      "cell_type": "markdown",
      "metadata": {
        "id": "qPr5Fsdzp5bV"
      },
      "source": [
        "# Data Aggregation"
      ]
    },
    {
      "cell_type": "markdown",
      "metadata": {
        "id": "6km2Ksojp9WO"
      },
      "source": [
        "- center of the data: df[\"col\"].mean()\n",
        "- df[\"date_of_birth\"].min():find youngest one\n",
        "- df[].agg()\n",
        "- function to calculate 40th percentile:\n",
        "- def pct40(col): \n",
        "return col.quantile(0.4)\n",
        "- Apply .agg() in the function:\n",
        "- df[\"weight_kg\"].agg([pct40])\n",
        "- df[\"weight_kg\"].cumsum():compute cumulative stat\n",
        "- .cumax(),cummin(),cumprod()"
      ]
    },
    {
      "cell_type": "markdown",
      "metadata": {
        "id": "CEMO16nts9-E"
      },
      "source": [
        "# Counting"
      ]
    },
    {
      "cell_type": "markdown",
      "metadata": {
        "id": "K15qzpCytAHR"
      },
      "source": [
        "- reomve duplicates: unique=df.drop_duplicates(subset=[\"name1\",\"name2\"])\n",
        "- unique[\"col\"].value_counts(sort=True)\n",
        "- unique[\"col\"].value_counts(normalize=True)\n"
      ]
    },
    {
      "cell_type": "markdown",
      "metadata": {
        "id": "apbquRe_xAR2"
      },
      "source": [
        "# Group Summary Stats"
      ]
    },
    {
      "cell_type": "markdown",
      "metadata": {
        "id": "pJDGYmdIxDXx"
      },
      "source": [
        "- dogs[dogs[\"color\"]==\"black\"][\"weight_kg\"].mean()\n",
        "\n",
        "dogs[dogs[\"color\"]==\"Brown\"][\"weight_kg\"].mean()\n",
        "\n",
        "dogs[dogs[\"color\"]==\"White\"][\"weight_kg\"].mean()\n",
        "\n",
        "- use groupby() method:\n",
        "- dogs.groupby(\"color\")[\"weight_kg\"].agg([min,max,sum])\n",
        "- dogs.groupby([\"color\",\"breed\"])[\"weight_kg\"].mean()"
      ]
    },
    {
      "cell_type": "markdown",
      "metadata": {
        "id": "1Bo8lgvRyDsH"
      },
      "source": [
        "# Pivot tables"
      ]
    },
    {
      "cell_type": "markdown",
      "metadata": {
        "id": "Dm7Umw2WyF1c"
      },
      "source": [
        "- another way to show group stats\n",
        "- import numpy as np\n",
        "- dogs.pivot_table(values=\"weight_kg\",index=\"color\",aggfunction=[np.median,np.mean])\n",
        "- dogs.groupby([\"color\",\"breed\"])[\"weight_kg\"].mean() using pivot_table\n",
        "- dogs.pivot_table(values=\"weight_kg\",index=\"color\",columns=\"breed\",fill_value=0,margins=True)"
      ]
    },
    {
      "cell_type": "markdown",
      "metadata": {
        "id": "-dbclhNd0SLj"
      },
      "source": [
        "# Slicing and Indexing DataFrames"
      ]
    },
    {
      "cell_type": "markdown",
      "metadata": {
        "id": "bwCT1QUB0UyU"
      },
      "source": [
        "# setting a column as the index\n",
        "- align by right\n",
        "- .set_index(\"col_name\")\n",
        "- to go back: .reset_index(drop=True)\n",
        "- .loc()\n",
        "- .sort_index(level=[],ascending=)\n",
        "\n",
        "# Slicing and subsetting with .loc and .iloc\n",
        "\n"
      ]
    },
    {
      "cell_type": "markdown",
      "metadata": {
        "id": "OH-VdUGudTr9"
      },
      "source": [
        "- df.iloc(): slice both column and rows in dataframe"
      ]
    },
    {
      "cell_type": "markdown",
      "metadata": {
        "id": "4OTUMJ2MeIQQ"
      },
      "source": [
        "# Pivot Table "
      ]
    },
    {
      "cell_type": "markdown",
      "metadata": {
        "id": "tXc6phuKeLk3"
      },
      "source": [
        "- dogs_height_by_breed_vs_color = dog_pack.pivot_table(\n",
        "\"height_cm\", index=\"breed\", columns=\"color\")\n",
        "print(dogs_height_by_breed_vs_color)\n",
        "\n"
      ]
    },
    {
      "cell_type": "markdown",
      "metadata": {
        "id": "RYJAEOQ9enw3"
      },
      "source": [
        "# Creating and Visualizing DataFrames"
      ]
    },
    {
      "cell_type": "markdown",
      "metadata": {
        "id": "cqOGChSMeo_v"
      },
      "source": [
        "## Visualizing your data"
      ]
    },
    {
      "cell_type": "markdown",
      "metadata": {
        "id": "KE26lRqEeuUE"
      },
      "source": [
        "- Histogram:\n",
        "- df['col'].hist(bins=20)\n",
        "- Bar plot: \n",
        "- avg_weight_by_breed = dog_pack.groupby(\"breed\")[\"weight_kg\"].mean()\n",
        "- avg_weight_by_breed.plot(kind=\"bar\")\n",
        "- avg_weight_by_breed.plot(kind=\"bar\",\n",
        "title=\"Mean Weight by Dog Breed\")\n",
        "- Line plots:\n",
        "- sully.plot(x=\"date\",\n",
        "y=\"weight_kg\",\n",
        "kind=\"line\",rot=45)\n",
        "- Scatter plots:\n",
        "- dog_pack.plot(x=\"height_cm\", y=\"weight_kg\", kind=\"scatter\")\n",
        "- Layering plots:\n",
        "- dog_pack[dog_pack[\"sex\"]==\"F\"][\"height_cm\"].hist(alpha=0.7)\n",
        "dog_pack[dog_pack[\"sex\"]==\"M\"][\"height_cm\"].hist(alpha=0.7)\n",
        "plt.legend([\"F\", \"M\"])\n",
        "plt.show()\n",
        "- "
      ]
    },
    {
      "cell_type": "code",
      "metadata": {
        "id": "AC1QfgtliS4I"
      },
      "source": [
        "# Import matplotlib.pyplot with alias plt\n",
        "import matplotlib.pyplot as plt\n",
        "\n",
        "# Look at the first few rows of data\n",
        "print(avocados.head())\n",
        "\n",
        "# Get the total number of avocados sold of each size\n",
        "nb_sold_by_size = avocados.groupby(\"size\")[\"nb_sold\"].sum()\n",
        "\n",
        "# Create a bar plot of the number of avocados sold by size\n",
        "nb_sold_by_size.plot(kind=\"bar\")\n",
        "\n",
        "# Show the plot\n",
        "plt.show()"
      ],
      "execution_count": null,
      "outputs": []
    },
    {
      "cell_type": "code",
      "metadata": {
        "id": "b6zPCBynvBxJ"
      },
      "source": [
        "# Import matplotlib.pyplot with alias plt\n",
        "import matplotlib.pyplot as plt\n",
        "\n",
        "# Get the total number of avocados sold on each date\n",
        "nb_sold_by_date = avocados.groupby(\"date\")[\"nb_sold\"].sum()\n",
        "\n",
        "# Create a line plot of the number of avocados sold by date\n",
        "nb_sold_by_date.plot(kind=\"line\")\n",
        "\n",
        "# Show the plot\n",
        "plt.show()"
      ],
      "execution_count": null,
      "outputs": []
    },
    {
      "cell_type": "code",
      "metadata": {
        "id": "khGn6zwG17jE"
      },
      "source": [
        "# Scatter plot of nb_sold vs avg_price with title\n",
        "avocados.plot(x=\"nb_sold\", y=\"avg_price\", kind=\"scatter\", title=\"Number of avocados sold vs. average price\")\n",
        "\n",
        "# Show the plot\n",
        "plt.show()"
      ],
      "execution_count": null,
      "outputs": []
    },
    {
      "cell_type": "code",
      "metadata": {
        "id": "W3-1qMMk2T5W"
      },
      "source": [
        "# Histogram of conventional avg_price \n",
        "avocados[avocados[\"type\"] == \"conventional\"][\"avg_price\"].hist()\n",
        "\n",
        "# Histogram of organic avg_price\n",
        "avocados[avocados[\"type\"] == \"organic\"][\"avg_price\"].hist()\n",
        "\n",
        "# Add a legend\n",
        "plt.legend([\"conventional\", \"organic\"])\n",
        "\n",
        "# Show the plot\n",
        "plt.show()"
      ],
      "execution_count": null,
      "outputs": []
    },
    {
      "cell_type": "code",
      "metadata": {
        "id": "lru7VXp63ZX0"
      },
      "source": [
        "# Modify histogram transparency to 0.5 \n",
        "avocados[avocados[\"type\"] == \"conventional\"][\"avg_price\"].hist(alpha=0.5)\n",
        "\n",
        "# Modify histogram transparency to 0.5\n",
        "avocados[avocados[\"type\"] == \"organic\"][\"avg_price\"].hist(alpha=0.5)\n",
        "\n",
        "# Add a legend\n",
        "plt.legend([\"conventional\", \"organic\"])\n",
        "\n",
        "# Show the plot\n",
        "plt.show()"
      ],
      "execution_count": null,
      "outputs": []
    },
    {
      "cell_type": "code",
      "metadata": {
        "id": "a8thney53kr8"
      },
      "source": [
        "# Modify bins to 20\n",
        "avocados[avocados[\"type\"] == \"conventional\"][\"avg_price\"].hist(bins=20,alpha=0.5)\n",
        "\n",
        "# Modify bins to 20\n",
        "avocados[avocados[\"type\"] == \"organic\"][\"avg_price\"].hist(bins=20,alpha=0.5)\n",
        "\n",
        "# Add a legend\n",
        "plt.legend([\"conventional\", \"organic\"])\n",
        "\n",
        "# Show the plot\n",
        "plt.show()"
      ],
      "execution_count": null,
      "outputs": []
    },
    {
      "cell_type": "markdown",
      "metadata": {
        "id": "rkcCak0e3nOZ"
      },
      "source": [
        "# Missing Values"
      ]
    },
    {
      "cell_type": "markdown",
      "metadata": {
        "id": "3dQKJzpu3rkE"
      },
      "source": [
        "- df.isna().sum()\n",
        "- df.isna().any()\n",
        "# Plot missing values\n",
        "- df.isna().sum().plot(kind='bar')\n",
        "- plt.show()\n",
        "# Remove: df.dropna()\n",
        "#Fill: df.fillna(0)"
      ]
    },
    {
      "cell_type": "markdown",
      "metadata": {
        "id": "7voS9HJwIbis"
      },
      "source": [
        "# Creating DataFrames\n",
        "- Dictionaries: my_dict={\"key1\":value1,\"key2\":value2}"
      ]
    },
    {
      "cell_type": "code",
      "metadata": {
        "colab": {
          "base_uri": "https://localhost:8080/"
        },
        "id": "o8m9OC8yJm-T",
        "outputId": "cc75eaf5-3aed-481a-a4f8-a1d87cc347c7"
      },
      "source": [
        "import pandas as pd\n",
        "list_of_dicts = [    {\"name\": \"Ginger\", \"breed\": \"Dachshund\", \"height_cm\": 22,\"weight_kg\": 10, \"date_of_birth\": \"2019-03-14\"},    {\"name\": \"Scout\", \"breed\": \"Dalmatian\", \"height_cm\": 59, \"weight_kg\": 25, \"date_of_birth\": \"2019-05-09\"}]\n",
        "new_dogs = pd.DataFrame(list_of_dicts)\n",
        "print(new_dogs)"
      ],
      "execution_count": null,
      "outputs": [
        {
          "output_type": "stream",
          "name": "stdout",
          "text": [
            "     name      breed  height_cm  weight_kg date_of_birth\n",
            "0  Ginger  Dachshund         22         10    2019-03-14\n",
            "1   Scout  Dalmatian         59         25    2019-05-09\n"
          ]
        }
      ]
    },
    {
      "cell_type": "code",
      "metadata": {
        "id": "J4en_WgG3l8D"
      },
      "source": [
        ""
      ],
      "execution_count": null,
      "outputs": []
    }
  ]
}