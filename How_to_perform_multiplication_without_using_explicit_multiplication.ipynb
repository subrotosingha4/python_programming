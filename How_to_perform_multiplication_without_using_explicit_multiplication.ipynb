{
  "nbformat": 4,
  "nbformat_minor": 0,
  "metadata": {
    "colab": {
      "name": "How-to-perform-multiplication-without-using-explicit-multiplication.ipynb",
      "provenance": [],
      "collapsed_sections": [],
      "authorship_tag": "ABX9TyPJRoQ93Yqm9zC5W4eHCpTR",
      "include_colab_link": true
    },
    "kernelspec": {
      "name": "python3",
      "display_name": "Python 3"
    }
  },
  "cells": [
    {
      "cell_type": "markdown",
      "metadata": {
        "id": "view-in-github",
        "colab_type": "text"
      },
      "source": [
        "<a href=\"https://colab.research.google.com/github/subrotosingha4/python_programming/blob/main/How_to_perform_multiplication_without_using_explicit_multiplication.ipynb\" target=\"_parent\"><img src=\"https://colab.research.google.com/assets/colab-badge.svg\" alt=\"Open In Colab\"/></a>"
      ]
    },
    {
      "cell_type": "code",
      "metadata": {
        "id": "udICkVklJ-vM"
      },
      "source": [
        "import math\n",
        "\n"
      ],
      "execution_count": 1,
      "outputs": []
    },
    {
      "cell_type": "code",
      "source": [
        "def prod(n1,n2):\n",
        "  '''\n",
        "  Returns product of two integers without explicit multiplication\n",
        "\n",
        "  '''\n",
        "\n",
        "  #num1=int(n1)\n",
        "  #num2=int(n2)\n",
        "  #prod_result=sum()\n",
        "  #prod_result=[]\n",
        "  count=0\n",
        "  for i in range(n1):\n",
        "    count=count+n2\n",
        "  return count"
      ],
      "metadata": {
        "id": "NApTjf9nDmq_"
      },
      "execution_count": 3,
      "outputs": []
    },
    {
      "cell_type": "code",
      "source": [
        "print(prod(2,3))"
      ],
      "metadata": {
        "colab": {
          "base_uri": "https://localhost:8080/"
        },
        "id": "0es69ZNSJJon",
        "outputId": "5e6a2bbf-cb61-4484-8bde-41c600ff04f7"
      },
      "execution_count": 4,
      "outputs": [
        {
          "output_type": "stream",
          "name": "stdout",
          "text": [
            "6\n"
          ]
        }
      ]
    }
  ]
}